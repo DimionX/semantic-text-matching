{
 "cells": [
  {
   "metadata": {
    "ExecuteTime": {
     "end_time": "2024-05-18T09:02:04.924165Z",
     "start_time": "2024-05-18T09:02:03.494611Z"
    }
   },
   "cell_type": "code",
   "source": [
    "import spacy\n",
    "import nltk\n",
    "from nltk.corpus import stopwords\n",
    "\n",
    "\n",
    "TOP_N = 5\n",
    "PATH_TO_DATASET = \"../data/medical_questions_pairs.csv\"\n",
    "STOPWORDS = set(stopwords.words(\"english\"))\n",
    "TOKEN_PATTERN = r\"(?u)\\b\\w\\w+\\b\"\n",
    "METRIC = \"cosine\"\n",
    "N_JOBS = -1\n",
    "\n",
    "# Load the spaCy English model\n",
    "nlp = spacy.load(\"en_core_web_sm\")\n",
    "\n",
    "nltk.download(\"stopwords\", quiet=True)"
   ],
   "id": "96484220f85b044e",
   "outputs": [
    {
     "data": {
      "text/plain": [
       "True"
      ]
     },
     "execution_count": 1,
     "metadata": {},
     "output_type": "execute_result"
    }
   ],
   "execution_count": 1
  },
  {
   "metadata": {
    "ExecuteTime": {
     "end_time": "2024-05-18T09:02:05.744605Z",
     "start_time": "2024-05-18T09:02:05.505586Z"
    }
   },
   "cell_type": "code",
   "source": [
    "import os\n",
    "\n",
    "import pandas as pd\n",
    "\n",
    "\n",
    "if not os.path.isfile(PATH_TO_DATASET):\n",
    "    raise FileNotFoundError(\"Dataset not found\")\n",
    "\n",
    "df = pd.read_csv(PATH_TO_DATASET)\n",
    "df.columns = [\"dr_id\", \"q1\", \"q2\", \"label\"]\n",
    "df.drop_duplicates(subset=[\"q1\", \"q2\"], inplace=True)\n",
    "\n",
    "df.count()"
   ],
   "id": "861b4ec7a3c5bea",
   "outputs": [
    {
     "data": {
      "text/plain": [
       "dr_id    3048\n",
       "q1       3048\n",
       "q2       3048\n",
       "label    3048\n",
       "dtype: int64"
      ]
     },
     "execution_count": 2,
     "metadata": {},
     "output_type": "execute_result"
    }
   ],
   "execution_count": 2
  },
  {
   "metadata": {
    "ExecuteTime": {
     "end_time": "2024-05-18T09:02:06.230636Z",
     "start_time": "2024-05-18T09:02:06.204538Z"
    }
   },
   "cell_type": "code",
   "source": [
    "documents = pd.concat([df[\"q1\"], df[\"q2\"]]).unique()\n",
    "\n",
    "true_questions = df[df[\"label\"] == 1]\n",
    "# Grouping a list of source question\n",
    "validate = true_questions.groupby(\"q1\")[\"q2\"].apply(list).reset_index()\n",
    "validate.columns = [\"question\", \"target\"]\n",
    "\n",
    "# Total documents, test questions\n",
    "documents.shape, validate.shape"
   ],
   "id": "a07241263fc26481",
   "outputs": [
    {
     "data": {
      "text/plain": [
       "((4567,), (1524, 2))"
      ]
     },
     "execution_count": 3,
     "metadata": {},
     "output_type": "execute_result"
    }
   ],
   "execution_count": 3
  },
  {
   "metadata": {
    "ExecuteTime": {
     "end_time": "2024-05-18T09:02:27.640794Z",
     "start_time": "2024-05-18T09:02:06.680925Z"
    }
   },
   "cell_type": "code",
   "source": [
    "import numpy as np\n",
    "from sklearn.neighbors import NearestNeighbors\n",
    "\n",
    "from src.vectorizer import Vectorizer\n",
    "\n",
    "\n",
    "def accuracy_at_n(x_question: pd.Series, true_docs: pd.Series, pred_docs: np.ndarray, n: int) -> float:\n",
    "    \"\"\"\n",
    "    Computes the accuracy of the predicted and true documents.\n",
    "    :param x_question: Series of input questions\n",
    "    :param true_docs: Series of true similar questions\n",
    "    :param pred_docs: Array of prediction similar questions\n",
    "    :param n: Top-N accuracy param\n",
    "    :return: Accuracy@n metric\n",
    "    \"\"\"\n",
    "    correct_predictions = 0\n",
    "    total_predictions = true_docs.shape[0]\n",
    "\n",
    "    for doc, y_true, indexes in zip(x_question, true_docs, pred_docs):\n",
    "        # Get the N similar documents excluding the document query itself (if any)\n",
    "        y_pred = [documents[index] for index in indexes if documents[index] != doc][:n]\n",
    "\n",
    "        if set(y_true).intersection(y_pred):\n",
    "            correct_predictions += 1\n",
    "\n",
    "    return correct_predictions / total_predictions\n",
    "\n",
    "\n",
    "vectorizer = Vectorizer()\n",
    "tfidf_matrix = vectorizer.fit_transform(documents)\n",
    "\n",
    "model = NearestNeighbors(n_neighbors=TOP_N + 1, metric=METRIC, n_jobs=N_JOBS)\n",
    "model.fit(tfidf_matrix)\n",
    "\n",
    "vectors = vectorizer.transform(validate[\"question\"])\n",
    "predictions = model.kneighbors(vectors, return_distance=False)\n",
    "\n",
    "accuracy_at_n(validate[\"question\"], validate[\"target\"], predictions, TOP_N)"
   ],
   "id": "71a40b885ad064c5",
   "outputs": [
    {
     "data": {
      "text/plain": [
       "0.8877952755905512"
      ]
     },
     "execution_count": 4,
     "metadata": {},
     "output_type": "execute_result"
    }
   ],
   "execution_count": 4
  }
 ],
 "metadata": {
  "kernelspec": {
   "display_name": "Python 3",
   "language": "python",
   "name": "python3"
  },
  "language_info": {
   "codemirror_mode": {
    "name": "ipython",
    "version": 2
   },
   "file_extension": ".py",
   "mimetype": "text/x-python",
   "name": "python",
   "nbconvert_exporter": "python",
   "pygments_lexer": "ipython2",
   "version": "2.7.6"
  }
 },
 "nbformat": 4,
 "nbformat_minor": 5
}
